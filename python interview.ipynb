{
 "cells": [
  {
   "cell_type": "code",
   "execution_count": 4,
   "id": "fc158a6d",
   "metadata": {},
   "outputs": [],
   "source": [
    "activity = [(1, '@login', None), (5, '@startVideo', 'Bob'), (20, '@startVideo', 'Thomas'), (66, '@stopVideo', 'Thomas'), (70, '@startVideo', 'Lily'), (75, '@stopVideo', 'Bob'), (78, '@stopVideo', 'Lily'), (100, '@logout', None), (150, '@login', None), (160, '@startVideo', 'Thomas'), (205, '@stopVideo', 'Thomas'), (210, '@logout', None) ]\n"
   ]
  },
  {
   "cell_type": "code",
   "execution_count": 10,
   "id": "b7f2fd63",
   "metadata": {},
   "outputs": [
    {
     "name": "stdout",
     "output_type": "stream",
     "text": [
      "Duration of Logged Time for this HA:159\n"
     ]
    }
   ],
   "source": [
    "def sumOfLogin(activity):\n",
    "    NoneT=0\n",
    "    video=0\n",
    "    videoT=0\n",
    "    for index,x in enumerate(activity):\n",
    "        if x[2]==None and x[1]=='@login':\n",
    "            Nstart=x[0]\n",
    "            for y in activity:\n",
    "                if y[1]=='@logout' and y[0]>Nstart and y[2]==None:\n",
    "                    time=y[0]-Nstart\n",
    "                    NoneT+=time\n",
    "                    break\n",
    "        if x[1]=='@startVideo':\n",
    "            video+=1\n",
    "            if video==2:\n",
    "                Vstart=x[0]\n",
    "        elif x[1]=='@stopVideo':\n",
    "            video-=1\n",
    "            if video==1:\n",
    "                time=x[0]-Vstart\n",
    "                videoT+=time\n",
    "    print(\"Duration of Logged Time for this HA:{}\".format(NoneT))\n",
    "    print(\"Duration of video for this HA:{}\".format(NoneT))\n",
    "\n",
    "sumOfLogin(activity)\n",
    "        "
   ]
  }
 ],
 "metadata": {
  "kernelspec": {
   "display_name": "Python 3",
   "language": "python",
   "name": "python3"
  },
  "language_info": {
   "codemirror_mode": {
    "name": "ipython",
    "version": 3
   },
   "file_extension": ".py",
   "mimetype": "text/x-python",
   "name": "python",
   "nbconvert_exporter": "python",
   "pygments_lexer": "ipython3",
   "version": "3.8.8"
  }
 },
 "nbformat": 4,
 "nbformat_minor": 5
}
